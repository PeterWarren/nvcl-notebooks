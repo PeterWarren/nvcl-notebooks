{
 "cells": [
  {
   "cell_type": "markdown",
   "metadata": {},
   "source": [
    "# NVCL Dataservices Notebook\n",
    "\n",
    "This notebook demonstrates on how you can query NVCL Dataservices.\n",
    "\n",
    "Webserver URL of different states:\n",
    "\n",
    "https://nvclwebservices.csiro.au/geoserver/wfs <br/>\n",
    "https://gs.geoscience.nsw.gov.au/geoserver/wfs <br/>\n",
    "https://geology.information.qld.gov.au/geoserver/wfs <br/>\n",
    "https://sarigdata.pir.sa.gov.au/geoserver/wfs <br/>\n",
    "http://geossdi.dmp.wa.gov.au/services/wfs <br/>\n",
    "https://www.mrt.tas.gov.au/web-services/wfs <br/>\n",
    "http://geology.data.nt.gov.au/geoserver/wfs <br/>\n",
    "http://geology.data.vic.gov.au/nvcl/wfs <br/>"
   ]
  },
  {
   "cell_type": "code",
   "execution_count": 25,
   "metadata": {},
   "outputs": [],
   "source": [
    "from nvcl_kit.reader import NVCLReader \n",
    "from types import SimpleNamespace\n",
    "param = SimpleNamespace()\n",
    "\n",
    "param.WFS_URL = \"https://sarigdata.pir.sa.gov.au/geoserver/wfs\"\n",
    "\n",
    "# URL of NVCL service\n",
    "param.NVCL_URL = \"https://sarigdata.pir.sa.gov.au/NVCLDataServices/\"\n",
    "\n",
    "reader = NVCLReader(param)"
   ]
  },
  {
   "cell_type": "code",
   "execution_count": 26,
   "metadata": {},
   "outputs": [],
   "source": [
    "if not reader.wfs:\n",
    "    print(\"ERROR!\")"
   ]
  },
  {
   "cell_type": "code",
   "execution_count": 27,
   "metadata": {},
   "outputs": [],
   "source": [
    "nvcl_id_list = reader.get_nvcl_id_list()"
   ]
  },
  {
   "cell_type": "code",
   "execution_count": 39,
   "metadata": {},
   "outputs": [],
   "source": [
    "import xmltodict\n",
    "import pandas as pd\n",
    "\n",
    "data = []\n",
    "response_str = reader.svc.get_dataset_collection('all', headersonly='yes')\n",
    "dataset_obj = xmltodict.parse(response_str)[\"DatasetCollection\"][\"Dataset\"]\n",
    "for dataset_dict in (dataset_obj if type(dataset_obj) is list else [dataset_obj]):\n",
    "    borehole_id = dataset_dict['boreholeURI'].rsplit('/', 1).pop()\n",
    "    dataset_dict.update({'boreholeId':borehole_id})\n",
    "    data.append(dataset_dict)\n",
    "\n",
    "dataset_df = pd.DataFrame(data)"
   ]
  },
  {
   "cell_type": "code",
   "execution_count": 41,
   "metadata": {},
   "outputs": [
    {
     "data": {
      "application/vnd.jupyter.widget-view+json": {
       "model_id": "c551f37a7c4f4a76ad9fffa82af04c2e",
       "version_major": 2,
       "version_minor": 0
      },
      "text/plain": [
       "Grid(columns_fit='auto', compress_data=True, export_mode='buttons', height='400px', menu={'buttons': [{'name':…"
      ]
     },
     "metadata": {},
     "output_type": "display_data"
    }
   ],
   "source": [
    "from ipyaggrid import Grid\n",
    "\n",
    "column_defs = [\n",
    "    {'field': 'boreholeId', 'headerName': 'Borehole Id', 'headerCheckboxSelection': True, 'checkboxSelection': True},\n",
    "    {'field': 'DatasetID', 'headerName': 'Dataset Id'},\n",
    "    {'field': 'DatasetName', 'headerName': 'Dataset Name'},\n",
    "    {'field': 'boreholeURI', 'headerName': 'Borehole URI'}\n",
    "]\n",
    "grid_options = {\n",
    "    'columnDefs' : column_defs,\n",
    "    'enableSorting': True,\n",
    "    'enableFilter': True,\n",
    "    'enableColResize': True,\n",
    "    'rowSelection': 'multiple'\n",
    "}\n",
    "\n",
    "dataset_g = Grid(grid_data=dataset_df,\n",
    "    height=400,\n",
    "    theme='ag-theme-balham',\n",
    "    grid_options=grid_options,\n",
    "    columns_fit='auto',\n",
    "    quick_filter=True,\n",
    "    export_mode='buttons')\n",
    "\n",
    "dataset_g"
   ]
  },
  {
   "cell_type": "code",
   "execution_count": 31,
   "metadata": {},
   "outputs": [],
   "source": [
    "if 'rows' not in dataset_g.grid_data_out:\n",
    "    raise Exception('Please select your datasets and click on export rows')"
   ]
  },
  {
   "cell_type": "code",
   "execution_count": 32,
   "metadata": {},
   "outputs": [],
   "source": [
    "selected_datasets_df = dataset_g.grid_data_out['rows']\n",
    "\n",
    "for selected_dataset_id in selected_datasets_df['DatasetID']:\n",
    "    response = reader.svc.download_tsg('venkataramanan.selvaraju@csiro.au', selected_dataset_id)"
   ]
  },
  {
   "cell_type": "code",
   "execution_count": 35,
   "metadata": {},
   "outputs": [
    {
     "data": {
      "application/vnd.jupyter.widget-view+json": {
       "model_id": "95855fde1775479f9de0987a37c44f3b",
       "version_major": 2,
       "version_minor": 0
      },
      "text/plain": [
       "HTML(value='<!DOCTYPE HTML>\\n<html>\\n\\n<head>\\n\\t<title>NVCL Download Services : TSG file Download Requests St…"
      ]
     },
     "metadata": {},
     "output_type": "display_data"
    }
   ],
   "source": [
    "from ipywidgets import HTML\n",
    "\n",
    "response = reader.svc.get_download_tsg_status('venkataramanan.selvaraju@csiro.au')\n",
    "\n",
    "display(HTML(value=response))"
   ]
  },
  {
   "cell_type": "code",
   "execution_count": 34,
   "metadata": {
    "scrolled": false
   },
   "outputs": [
    {
     "data": {
      "application/vnd.jupyter.widget-view+json": {
       "model_id": "c7dcd9ebb8314d7898b7d27756010319",
       "version_major": 2,
       "version_minor": 0
      },
      "text/plain": [
       "Dropdown(description='Dataset', index=1, layout=Layout(margin='20px'), options=(('129520_Yalkalpo1', '0f18fe0f…"
      ]
     },
     "metadata": {},
     "output_type": "display_data"
    },
    {
     "data": {
      "application/vnd.jupyter.widget-view+json": {
       "model_id": "2d3a54bc7c04423894eddad4ddc2f1c4",
       "version_major": 2,
       "version_minor": 0
      },
      "text/plain": [
       "HTML(value='<!DOCTYPE HTML>\\n<html>\\n  <head>\\n    <title>NVCL Data Services :: Mosaic Web Service</title>\\n  …"
      ]
     },
     "metadata": {},
     "output_type": "display_data"
    }
   ],
   "source": [
    "from ipywidgets import Dropdown, Layout, HTML\n",
    "from IPython.display import clear_output\n",
    "\n",
    "dataset_dw = Dropdown(\n",
    "    options = list(zip(dataset_df['DatasetName'], dataset_df['DatasetID'])),\n",
    "    value = dataset_df['DatasetID'][0],\n",
    "    description = 'Dataset',\n",
    "    layout = Layout(margin='20px')\n",
    ")\n",
    "\n",
    "imglogs = reader.get_tray_thumb_imglogs(dataset_df['DatasetID'][0])\n",
    "mosaic_html = reader.get_mosaic_image(imglogs[0].log_id)\n",
    "\n",
    "def on_change(change):\n",
    "  if change['type'] == 'change' and change['name'] == 'value':\n",
    "    imglogs = reader.get_tray_thumb_imglogs(change['new'])\n",
    "    mosaic_html = reader.get_mosaic_image(imglogs[0].log_id)\n",
    "    clear_output(True)\n",
    "    display(dataset_dw, HTML(value=mosaic_html))\n",
    "\n",
    "dataset_dw.observe(on_change)\n",
    "\n",
    "display(dataset_dw, HTML(value=mosaic_html))"
   ]
  },
  {
   "cell_type": "code",
   "execution_count": null,
   "metadata": {},
   "outputs": [],
   "source": []
  }
 ],
 "metadata": {
  "kernelspec": {
   "display_name": "Python 3",
   "language": "python",
   "name": "python3"
  },
  "language_info": {
   "codemirror_mode": {
    "name": "ipython",
    "version": 3
   },
   "file_extension": ".py",
   "mimetype": "text/x-python",
   "name": "python",
   "nbconvert_exporter": "python",
   "pygments_lexer": "ipython3",
   "version": "3.7.6"
  }
 },
 "nbformat": 4,
 "nbformat_minor": 4
}
