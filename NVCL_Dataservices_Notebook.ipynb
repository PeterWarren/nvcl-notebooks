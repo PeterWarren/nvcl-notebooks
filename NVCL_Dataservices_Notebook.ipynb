{
 "cells": [
  {
   "cell_type": "markdown",
   "metadata": {},
   "source": [
    "# NVCL Dataservices Notebook - Get Datasets\n",
    "\n",
    "This notebook demonstrates on how you can query NVCL Dataservices to obtain the list of datasets available\n",
    "\n",
    "Webserver URL of different states:\n",
    "\n",
    "https://nvclwebservices.csiro.au/geoserver/wfs <br/>\n",
    "https://gs.geoscience.nsw.gov.au/geoserver/wfs <br/>\n",
    "https://geology.information.qld.gov.au/geoserver/wfs <br/>\n",
    "https://sarigdata.pir.sa.gov.au/geoserver/wfs <br/>\n",
    "http://geossdi.dmp.wa.gov.au/services/wfs <br/>\n",
    "https://www.mrt.tas.gov.au/web-services/wfs <br/>\n",
    "http://geology.data.nt.gov.au/geoserver/wfs <br/>\n",
    "http://geology.data.vic.gov.au/nvcl/wfs <br/>"
   ]
  },
  {
   "cell_type": "code",
   "execution_count": 1,
   "metadata": {},
   "outputs": [],
   "source": [
    "from nvcl_kit.reader import NVCLReader \n",
    "from types import SimpleNamespace\n",
    "param = SimpleNamespace()\n",
    "\n",
    "param.WFS_URL = \"http://geology.data.vic.gov.au/nvcl/wfs\"\n",
    "\n",
    "# URL of NVCL service\n",
    "param.NVCL_URL = \"http://geology.data.vic.gov.au/NVCLDataServices/\"\n",
    "\n",
    "reader = NVCLReader(param)"
   ]
  },
  {
   "cell_type": "code",
   "execution_count": 2,
   "metadata": {},
   "outputs": [],
   "source": [
    "if not reader.wfs:\n",
    "    print(\"ERROR!\")"
   ]
  },
  {
   "cell_type": "code",
   "execution_count": 3,
   "metadata": {},
   "outputs": [],
   "source": [
    "nvcl_id_list = reader.get_nvcl_id_list()"
   ]
  },
  {
   "cell_type": "code",
   "execution_count": 8,
   "metadata": {},
   "outputs": [],
   "source": [
    "import pandas as pd\n",
    "import xmltodict\n",
    "import json\n",
    "\n",
    "data = []\n",
    "for nvcl_id in nvcl_id_list:\n",
    "  response_str = reader.svc.get_dataset_collection(nvcl_id)\n",
    "  dataset_obj = xmltodict.parse(response_str)[\"DatasetCollection\"]['Dataset']\n",
    "  for dataset_dict in (dataset_obj if type(dataset_obj) is list else [dataset_obj]):\n",
    "    dataset_dict['nvclID'] = nvcl_id\n",
    "    data.append(dataset_dict)\n",
    "\n",
    "dataset_df = pd.DataFrame(data)"
   ]
  },
  {
   "cell_type": "code",
   "execution_count": 84,
   "metadata": {},
   "outputs": [
    {
     "data": {
      "application/vnd.jupyter.widget-view+json": {
       "model_id": "ee576ba1798f4b8c8bce1a5278d74235",
       "version_major": 2,
       "version_minor": 0
      },
      "text/plain": [
       "Grid(columns_fit='auto', compress_data=True, export_mode='buttons', height='400px', menu={'buttons': [{'name':…"
      ]
     },
     "metadata": {},
     "output_type": "display_data"
    }
   ],
   "source": [
    "from ipyaggrid import Grid\n",
    "\n",
    "dataset_view_df = dataset_df[['nvclID', 'DatasetID', 'boreholeURI', 'DatasetName']]\n",
    "column_defs = [\n",
    "    {'field': 'nvclID', 'headerName': 'NVCL Id', 'headerCheckboxSelection': True, 'checkboxSelection': True},\n",
    "    {'field': 'DatasetID', 'headerName': 'Dataset Id'},\n",
    "    {'field': 'DatasetName', 'headerName': 'Dataset Name'},\n",
    "    {'field': 'boreholeURI', 'headerName': 'Borehole URI'}\n",
    "]\n",
    "grid_options = {\n",
    "    'columnDefs' : column_defs,\n",
    "    'enableSorting': True,\n",
    "    'enableFilter': True,\n",
    "    'enableColResize': True,\n",
    "    'rowSelection': 'multiple'\n",
    "}\n",
    "\n",
    "# function isFirstColumn(params) {\n",
    "#     var displayedColumns = params.columnApi.getAllDisplayedColumns();\n",
    "#     var thisIsFirstColumn = displayedColumns[0] === params.column;\n",
    "#     return thisIsFirstColumn;\n",
    "# }\n",
    "\n",
    "dataset_g = Grid(grid_data=dataset_df,\n",
    "        height=400,\n",
    "        theme='ag-theme-balham',\n",
    "        grid_options=grid_options,\n",
    "        columns_fit='auto',\n",
    "        quick_filter=True,\n",
    "        export_mode='buttons')\n",
    "dataset_g"
   ]
  },
  {
   "cell_type": "code",
   "execution_count": 91,
   "metadata": {},
   "outputs": [],
   "source": [
    "if 'rows' not in dataset_g.grid_data_out:\n",
    "    print ('Please select your datasets and export rows')"
   ]
  },
  {
   "cell_type": "code",
   "execution_count": 94,
   "metadata": {},
   "outputs": [],
   "source": [
    "selected_datasets_df = dataset_g.grid_data_out['rows']\n",
    "\n",
    "for selected_dataset_id in selected_datasets_df['DatasetID']:\n",
    "    response = reader.svc.download_tsg(selected_dataset_id, 'venkataramanan.selvaraju@csiro.au')"
   ]
  },
  {
   "cell_type": "code",
   "execution_count": 95,
   "metadata": {},
   "outputs": [
    {
     "data": {
      "text/plain": [
       "b'\\r\\n\\r\\n\\r\\n\\r\\n<html>\\r\\n  <head>\\r\\n\\t\\t<title>NVCL Download Services : TSG file Download Requests Status Page</title>\\r\\n\\t\\t<link rel=\"stylesheet\" href=\"style/style.css\" type=\"text/css\"/>\\r\\n  </head>\\r\\n  <body class=\"NVCLDSBody\">\\r\\n    <h2 class=\"NVCLDSh2\">NVCL Download Services : TSG file Download Requests Status Page</h2>\\r\\n\\r\\n\\t<table class=\"NVCLDSTable\">\\r\\n\\t<thead>\\r\\n\\t<tr><th>Timestamp</th><th>Status</th><th>Details</th><th></th></tr>\\r\\n\\t</thead>\\r\\n\\t<tbody>\\r\\n\\t\\r\\n\\t\\t\\t<tr class=\"\">\\r\\n\\t\\t\\t\\t<td>Mar 2, 2020 4:28:02 PM</td>\\r\\n\\t\\t\\t\\t<td>Queued</td>\\r\\n\\t\\t\\t\\t<td>Request for dataset with ID: c7bfb49c-2e85-4d31-97f1-e9e273e299d</td>\\r\\n\\t\\t\\t\\t<td></td>\\r\\n\\t\\t\\t</tr>\\r\\n\\t\\t\\r\\n\\t\\t\\r\\n\\t</tbody>\\r\\n    </table>\\r\\n\\r\\n  </body>\\r\\n</html>'"
      ]
     },
     "execution_count": 95,
     "metadata": {},
     "output_type": "execute_result"
    }
   ],
   "source": [
    "response = reader.svc.get_download_tsg_status('venkataramanan.selvaraju@csiro.au')\n",
    "\n",
    "response"
   ]
  },
  {
   "cell_type": "code",
   "execution_count": 9,
   "metadata": {},
   "outputs": [
    {
     "data": {
      "application/vnd.jupyter.widget-view+json": {
       "model_id": "af03875b2b644e70933b77966a0a16bf",
       "version_major": 2,
       "version_minor": 0
      },
      "text/plain": [
       "Dropdown(description='Dataset', layout=Layout(margin='20px'), options=(('877270_KIND168', 'c7bfb49c-2e85-4d31-…"
      ]
     },
     "metadata": {},
     "output_type": "display_data"
    },
    {
     "data": {
      "application/vnd.jupyter.widget-view+json": {
       "model_id": "da0b223633e14154ac945779aa4fa599",
       "version_major": 2,
       "version_minor": 0
      },
      "text/plain": [
       "HTML(value='\\r\\n\\r\\n\\r\\n\\r\\n\\r\\n\\r\\n<!DOCTYPE html>\\r\\n<html>\\r\\n  <head>\\r\\n    <title>NVCL Data Services :: …"
      ]
     },
     "metadata": {},
     "output_type": "display_data"
    }
   ],
   "source": [
    "from ipywidgets import Dropdown, Layout, HTML\n",
    "from IPython.display import clear_output\n",
    "\n",
    "dataset_dw = Dropdown(\n",
    "    options = list(zip(dataset_df['DatasetName'], dataset_df['DatasetID'])),\n",
    "    value = dataset_df['DatasetID'][0],\n",
    "    description = 'Dataset',\n",
    "    layout = Layout(margin='20px')\n",
    ")\n",
    "\n",
    "imglogs = reader.get_tray_thumb_imglogs(dataset_df['DatasetID'][0])\n",
    "mosaic_html = reader.get_mosaic_image(imglogs[0].log_id)\n",
    "\n",
    "def on_change(change):\n",
    "  if change['type'] == 'change' and change['name'] == 'value':\n",
    "    imglogs = reader.get_tray_thumb_imglogs(change['new'])\n",
    "    mosaic_html = reader.get_mosaic_image(imglogs[0].log_id)\n",
    "    clear_output(True)\n",
    "    display(dataset_dw, HTML(value=mosaic_html))\n",
    "\n",
    "dataset_dw.observe(on_change)\n",
    "\n",
    "display(dataset_dw, HTML(value=mosaic_html))"
   ]
  }
 ],
 "metadata": {
  "kernelspec": {
   "display_name": "Python 3",
   "language": "python",
   "name": "python3"
  },
  "language_info": {
   "codemirror_mode": {
    "name": "ipython",
    "version": 3
   },
   "file_extension": ".py",
   "mimetype": "text/x-python",
   "name": "python",
   "nbconvert_exporter": "python",
   "pygments_lexer": "ipython3",
   "version": "3.7.6"
  }
 },
 "nbformat": 4,
 "nbformat_minor": 4
}
