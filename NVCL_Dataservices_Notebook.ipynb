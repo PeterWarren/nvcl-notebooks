{
 "cells": [
  {
   "cell_type": "markdown",
   "metadata": {},
   "source": [
    "# NVCL Dataservices Notebook - Get Datasets\n",
    "\n",
    "This notebook demonstrates on how you can query NVCL Dataservices to obtain the list of datasets available\n",
    "\n",
    "Webserver URL of different states:\n",
    "\n",
    "https://nvclwebservices.csiro.au/geoserver/wfs <br/>\n",
    "https://gs.geoscience.nsw.gov.au/geoserver/wfs <br/>\n",
    "https://geology.information.qld.gov.au/geoserver/wfs <br/>\n",
    "https://sarigdata.pir.sa.gov.au/geoserver/wfs <br/>\n",
    "http://geossdi.dmp.wa.gov.au/services/wfs <br/>\n",
    "https://www.mrt.tas.gov.au/web-services/wfs <br/>\n",
    "http://geology.data.nt.gov.au/geoserver/wfs <br/>\n",
    "http://geology.data.vic.gov.au/nvcl/wfs <br/>"
   ]
  },
  {
   "cell_type": "code",
   "execution_count": 17,
   "metadata": {},
   "outputs": [],
   "source": [
    "from nvcl_kit.reader import NVCLReader \n",
    "from types import SimpleNamespace\n",
    "param = SimpleNamespace()\n",
    "\n",
    "param.WFS_URL = \"http://geology.data.vic.gov.au/nvcl/wfs\"\n",
    "\n",
    "# URL of NVCL service\n",
    "param.NVCL_URL = \"http://geology.data.vic.gov.au/NVCLDataServices/\"\n",
    "\n",
    "reader = NVCLReader(param)"
   ]
  },
  {
   "cell_type": "code",
   "execution_count": 18,
   "metadata": {},
   "outputs": [],
   "source": [
    "if not reader.wfs:\n",
    "    print(\"ERROR!\")"
   ]
  },
  {
   "cell_type": "code",
   "execution_count": 19,
   "metadata": {},
   "outputs": [],
   "source": [
    "nvcl_id_list = reader.get_nvcl_id_list()"
   ]
  },
  {
   "cell_type": "code",
   "execution_count": 20,
   "metadata": {},
   "outputs": [],
   "source": [
    "import pandas as pd\n",
    "import xmltodict\n",
    "import json\n",
    "\n",
    "data = []\n",
    "for nvcl_id in nvcl_id_list:\n",
    "  response_str = reader.svc.get_dataset_collection(nvcl_id)\n",
    "  dataset_obj = xmltodict.parse(response_str)[\"DatasetCollection\"]['Dataset']\n",
    "  for dataset_dict in (dataset_obj if type(dataset_obj) is list else [dataset_obj]):\n",
    "    dataset_dict['nvclID'] = nvcl_id\n",
    "    data.append(dataset_dict)\n",
    "\n",
    "dataset_df = pd.DataFrame(data)"
   ]
  },
  {
   "cell_type": "code",
   "execution_count": 1,
   "metadata": {},
   "outputs": [],
   "source": [
    "import jupyterlab_dash\n",
    "import dash\n",
    "import dash_html_components as html\n",
    "\n",
    "viewer = jupyterlab_dash.AppViewer()\n",
    "\n",
    "app = dash.Dash(__name__)\n",
    "\n",
    "app.layout = html.Div('Hello World')\n",
    "\n",
    "viewer.show(app)"
   ]
  },
  {
   "cell_type": "code",
   "execution_count": 22,
   "metadata": {},
   "outputs": [
    {
     "data": {
      "application/vnd.jupyter.widget-view+json": {
       "model_id": "0dc683947b55486ab55e3c8b67b41b25",
       "version_major": 2,
       "version_minor": 0
      },
      "text/plain": [
       "Dropdown(description='Dataset', layout=Layout(margin='20px'), options=(('877270_KIND168', 'c7bfb49c-2e85-4d31-…"
      ]
     },
     "metadata": {},
     "output_type": "display_data"
    },
    {
     "data": {
      "application/vnd.jupyter.widget-view+json": {
       "model_id": "2b972bde00234478b5f3cea40d38d8bd",
       "version_major": 2,
       "version_minor": 0
      },
      "text/plain": [
       "HTML(value='\\r\\n\\r\\n\\r\\n\\r\\n\\r\\n\\r\\n<!DOCTYPE html>\\r\\n<html>\\r\\n  <head>\\r\\n    <title>NVCL Data Services :: …"
      ]
     },
     "metadata": {},
     "output_type": "display_data"
    }
   ],
   "source": [
    "from ipywidgets import Dropdown, Layout, HTML\n",
    "from IPython.display import clear_output\n",
    "\n",
    "dataset_dw = Dropdown(\n",
    "    options = list(zip(dataset_df['DatasetName'], dataset_df['DatasetID'])),\n",
    "    value = dataset_df['DatasetID'][0],\n",
    "    description = 'Dataset',\n",
    "    layout = Layout(margin='20px')\n",
    ")\n",
    "\n",
    "imglogs = reader.get_tray_thumb_imglogs(dataset_df['DatasetID'][0])\n",
    "mosaic_html = reader.get_mosaic_image(imglogs[0].log_id)\n",
    "\n",
    "def on_change(change):\n",
    "  if change['type'] == 'change' and change['name'] == 'value':\n",
    "    imglogs = reader.get_tray_thumb_imglogs(change['new'])\n",
    "    mosaic_html = reader.get_mosaic_image(imglogs[0].log_id)\n",
    "    clear_output(True)\n",
    "    display(dataset_w, HTML(value=mosaic_html))\n",
    "\n",
    "dataset_dw.observe(on_change)\n",
    "\n",
    "display(dataset_dw, HTML(value=mosaic_html))"
   ]
  },
  {
   "cell_type": "code",
   "execution_count": null,
   "metadata": {},
   "outputs": [],
   "source": []
  }
 ],
 "metadata": {
  "kernelspec": {
   "display_name": "Python 3",
   "language": "python",
   "name": "python3"
  },
  "language_info": {
   "codemirror_mode": {
    "name": "ipython",
    "version": 3
   },
   "file_extension": ".py",
   "mimetype": "text/x-python",
   "name": "python",
   "nbconvert_exporter": "python",
   "pygments_lexer": "ipython3",
   "version": "3.7.6"
  }
 },
 "nbformat": 4,
 "nbformat_minor": 4
}
