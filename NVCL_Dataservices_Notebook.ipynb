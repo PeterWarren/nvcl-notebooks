{
 "cells": [
  {
   "cell_type": "markdown",
   "metadata": {},
   "source": [
    "# NVCL Dataservices Notebook\n",
    "\n",
    "This notebook demonstrates on how you can query NVCL Dataservices.\n",
    "\n",
    "Webserver URL of different states:\n",
    "\n",
    "https://nvclwebservices.csiro.au/geoserver/wfs <br/>\n",
    "https://gs.geoscience.nsw.gov.au/geoserver/wfs <br/>\n",
    "https://geology.information.qld.gov.au/geoserver/wfs <br/>\n",
    "https://sarigdata.pir.sa.gov.au/geoserver/wfs <br/>\n",
    "http://geossdi.dmp.wa.gov.au/services/wfs <br/>\n",
    "https://www.mrt.tas.gov.au/web-services/wfs <br/>\n",
    "http://geology.data.nt.gov.au/geoserver/wfs <br/>\n",
    "http://geology.data.vic.gov.au/nvcl/wfs <br/>"
   ]
  },
  {
   "cell_type": "code",
   "execution_count": 42,
   "metadata": {},
   "outputs": [],
   "source": [
    "from nvcl_kit.reader import NVCLReader \n",
    "from types import SimpleNamespace\n",
    "param = SimpleNamespace()\n",
    "\n",
    "param.WFS_URL = \"https://sarigdata.pir.sa.gov.au/geoserver/wfs\"\n",
    "\n",
    "# URL of NVCL service\n",
    "param.NVCL_URL = \"https://sarigdata.pir.sa.gov.au/NVCLDataServices/\"\n",
    "\n",
    "reader = NVCLReader(param)"
   ]
  },
  {
   "cell_type": "code",
   "execution_count": 43,
   "metadata": {},
   "outputs": [],
   "source": [
    "if not reader.wfs:\n",
    "    print(\"ERROR!\")"
   ]
  },
  {
   "cell_type": "code",
   "execution_count": 44,
   "metadata": {},
   "outputs": [],
   "source": [
    "nvcl_id_list = reader.get_nvcl_id_list()"
   ]
  },
  {
   "cell_type": "code",
   "execution_count": 45,
   "metadata": {},
   "outputs": [],
   "source": [
    "import xmltodict\n",
    "import pandas as pd\n",
    "\n",
    "data = []\n",
    "response_str = reader.svc.get_dataset_collection('all', headersonly='yes')\n",
    "dataset_obj = xmltodict.parse(response_str)[\"DatasetCollection\"][\"Dataset\"]\n",
    "for dataset_dict in (dataset_obj if type(dataset_obj) is list else [dataset_obj]):\n",
    "    borehole_id = dataset_dict['boreholeURI'].rsplit('/', 1).pop()\n",
    "    dataset_dict.update({'boreholeId':borehole_id})\n",
    "    data.append(dataset_dict)\n",
    "\n",
    "dataset_df = pd.DataFrame(data)"
   ]
  },
  {
   "cell_type": "code",
   "execution_count": 50,
   "metadata": {},
   "outputs": [
    {
     "data": {
      "application/vnd.jupyter.widget-view+json": {
       "model_id": "d4cd11a86f7c49e9a849c9dd8ae61da2",
       "version_major": 2,
       "version_minor": 0
      },
      "text/plain": [
       "Grid(columns_fit='auto', compress_data=True, export_mode='buttons', height='400px', menu={'buttons': [{'name':…"
      ]
     },
     "metadata": {},
     "output_type": "display_data"
    }
   ],
   "source": [
    "from ipyaggrid import Grid\n",
    "\n",
    "column_defs = [\n",
    "    {'field': 'boreholeId', 'headerName': 'Borehole Id', 'headerCheckboxSelection': True, 'checkboxSelection': True},\n",
    "    {'field': 'DatasetID', 'headerName': 'Dataset Id'},\n",
    "    {'field': 'DatasetName', 'headerName': 'Dataset Name'},\n",
    "    {'field': 'boreholeURI', 'headerName': 'Borehole URI'}\n",
    "]\n",
    "grid_options = {\n",
    "    'columnDefs' : column_defs,\n",
    "    'enableSorting': True,\n",
    "    'enableFilter': True,\n",
    "    'enableColResize': True,\n",
    "    'rowSelection': 'multiple'\n",
    "}\n",
    "\n",
    "dataset_g = Grid(grid_data=dataset_df,\n",
    "    height=400,\n",
    "    theme='ag-theme-balham',\n",
    "    grid_options=grid_options,\n",
    "    columns_fit='auto',\n",
    "    quick_filter=True,\n",
    "    export_mode='buttons')\n",
    "\n",
    "dataset_g"
   ]
  },
  {
   "cell_type": "code",
   "execution_count": 71,
   "metadata": {},
   "outputs": [],
   "source": [
    "if 'rows' not in dataset_g.grid_data_out:\n",
    "    raise Exception('Please select your datasets and click on export rows')\n",
    "    \n",
    "selected_rows_df = dataset_g.grid_data_out['rows']"
   ]
  },
  {
   "cell_type": "code",
   "execution_count": 72,
   "metadata": {
    "scrolled": false
   },
   "outputs": [
    {
     "data": {
      "application/vnd.jupyter.widget-view+json": {
       "model_id": "199017f6b1cc4b7db9468072fae55677",
       "version_major": 2,
       "version_minor": 0
      },
      "text/plain": [
       "Dropdown(description='Dataset', index=1, layout=Layout(margin='20px'), options=(('129520_Yalkalpo1', '0f18fe0f…"
      ]
     },
     "metadata": {},
     "output_type": "display_data"
    },
    {
     "data": {
      "application/vnd.jupyter.widget-view+json": {
       "model_id": "6a4740a0df3c4d9ca6593e70e492fb38",
       "version_major": 2,
       "version_minor": 0
      },
      "text/plain": [
       "HTML(value='<!DOCTYPE HTML>\\n<html>\\n  <head>\\n    <title>NVCL Data Services :: Mosaic Web Service</title>\\n  …"
      ]
     },
     "metadata": {},
     "output_type": "display_data"
    }
   ],
   "source": [
    "from ipywidgets import Dropdown, Layout, HTML\n",
    "from IPython.display import clear_output\n",
    "\n",
    "dataset_dw = Dropdown(\n",
    "    options = list(zip(selected_rows_df['DatasetName'], selected_rows_df['DatasetID'])),\n",
    "    value = selected_rows_df['DatasetID'].values[0],\n",
    "    description = 'Dataset',\n",
    "    layout = Layout(margin='20px')\n",
    ")\n",
    "\n",
    "imglogs = reader.get_tray_thumb_imglogs(selected_rows_df['DatasetID'].values[0])\n",
    "print (imglogs)\n",
    "mosaic_html = reader.get_mosaic_image(imglogs[0].log_id)\n",
    "\n",
    "def on_change(change):\n",
    "  if change['type'] == 'change' and change['name'] == 'value':\n",
    "    imglogs = reader.get_tray_thumb_imglogs(change['new'])\n",
    "    mosaic_html = reader.get_mosaic_image(imglogs[0].log_id)\n",
    "    clear_output(True)\n",
    "    display(dataset_dw, HTML(value=mosaic_html))\n",
    "\n",
    "dataset_dw.observe(on_change)\n",
    "\n",
    "display(dataset_dw, HTML(value=mosaic_html))"
   ]
  },
  {
   "cell_type": "code",
   "execution_count": 99,
   "metadata": {},
   "outputs": [
    {
     "data": {
      "text/plain": [
       "<matplotlib.axes._subplots.AxesSubplot at 0x2bef36fa8c8>"
      ]
     },
     "execution_count": 99,
     "metadata": {},
     "output_type": "execute_result"
    },
    {
     "data": {
      "image/png": "[encoded data removed]",
      "text/plain": [
       "<Figure size 432x288 with 1 Axes>"
      ]
     },
     "metadata": {
      "needs_background": "light"
     },
     "output_type": "display_data"
    }
   ],
   "source": [
    "import xmltodict\n",
    "import pandas as pd\n",
    "import urllib\n",
    "import array\n",
    "\n",
    "specrtral_data_df = selected_rows_df.loc[selected_rows_df['DatasetID'] == dataset_dw.value]\n",
    "response_str = reader.svc.get_dataset_collection(specrtral_data_df['boreholeId'].values[0], \n",
    "                    datasetid=specrtral_data_df['DatasetID'].values[0])\n",
    "spectral_logs_obj = xmltodict.parse(response_str)['DatasetCollection']['Dataset']['SpectralLogs']['SpectralLog']\n",
    "\n",
    "data = []\n",
    "for spectral_logs_dict in (spectral_logs_obj if type(spectral_logs_obj) is list else [spectral_logs_obj]):\n",
    "    data.append(spectral_logs_dict)\n",
    "\n",
    "spectral_logs_df = pd.DataFrame(data)\n",
    "\n",
    "reflectance_df = spectral_logs_df.loc[spectral_logs_df['logName'] == 'Reflectance']\n",
    "\n",
    "params = {'speclogid': reflectance_df['logID'].values[0], 'endsampleno': '1', 'startsampleno': '1'}\n",
    "spect_enc_params = urllib.parse.urlencode(params).encode('ascii')\n",
    "spect_req = urllib.request.Request(param.NVCL_URL + '/getspectraldata.html', spect_enc_params)\n",
    "with urllib.request.urlopen(spect_req, timeout=60) as response:\n",
    "    U = array.array(\"f\")\n",
    "    U.fromstring(response.read(2124))\n",
    "    spec_data = {'reflectance': U}\n",
    "    wvl_data = {'wavelengths' : reflectance_df['wavelengths'].values[0].split(',')}\n",
    "    spect_df = pd.concat([pd.DataFrame(wvl_data), pd.DataFrame(spec_data)], axis=1, sort=False)\n",
    "    \n",
    "spect_df.plot(kind='line', x='wavelengths', y='reflectance')"
   ]
  },
  {
   "cell_type": "code",
   "execution_count": null,
   "metadata": {},
   "outputs": [],
   "source": []
  }
 ],
 "metadata": {
  "kernelspec": {
   "display_name": "Python 3",
   "language": "python",
   "name": "python3"
  },
  "language_info": {
   "codemirror_mode": {
    "name": "ipython",
    "version": 3
   },
   "file_extension": ".py",
   "mimetype": "text/x-python",
   "name": "python",
   "nbconvert_exporter": "python",
   "pygments_lexer": "ipython3",
   "version": "3.7.6"
  }
 },
 "nbformat": 4,
 "nbformat_minor": 4
}
